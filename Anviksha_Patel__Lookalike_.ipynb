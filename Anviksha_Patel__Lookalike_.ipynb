{
  "nbformat": 4,
  "nbformat_minor": 0,
  "metadata": {
    "colab": {
      "provenance": [],
      "authorship_tag": "ABX9TyO80sExCeZlVtk8oCRy3cDN",
      "include_colab_link": true
    },
    "kernelspec": {
      "name": "python3",
      "display_name": "Python 3"
    },
    "language_info": {
      "name": "python"
    }
  },
  "cells": [
    {
      "cell_type": "markdown",
      "metadata": {
        "id": "view-in-github",
        "colab_type": "text"
      },
      "source": [
        "<a href=\"https://colab.research.google.com/github/anvicoder/Data-Science-Assignment-eCommerce-Transactions-/blob/main/Anviksha_Patel__Lookalike_.ipynb\" target=\"_parent\"><img src=\"https://colab.research.google.com/assets/colab-badge.svg\" alt=\"Open In Colab\"/></a>"
      ]
    },
    {
      "cell_type": "code",
      "execution_count": 1,
      "metadata": {
        "colab": {
          "base_uri": "https://localhost:8080/"
        },
        "id": "wq0G4JecCSnC",
        "outputId": "a6e5b96b-0213-4885-bb3b-ecc353efbae5"
      },
      "outputs": [
        {
          "output_type": "stream",
          "name": "stdout",
          "text": [
            "Mounted at /content/drive\n"
          ]
        }
      ],
      "source": [
        "from google.colab import drive\n",
        "drive.mount('/content/drive')"
      ]
    },
    {
      "cell_type": "code",
      "source": [
        "import gdown\n",
        "customer_id = '1bu_--mo79VdUG9oin4ybfFGRUSXAe-WE'\n",
        "product_id = '1IKuDizVapw-hyktwfpoAoaGtHtTNHfd0'\n",
        "transaction_id = '1saEqdbBB-vuk2hxoAf4TzDEsykdKlzbF'\n",
        "gdown.download(f'https://drive.google.com/uc?id={customer_id}', 'customer.csv', quiet=False)\n",
        "gdown.download(f'https://drive.google.com/uc?id={product_id}', 'product.csv', quiet=False)\n",
        "gdown.download(f'https://drive.google.com/uc?id={transaction_id}', 'transaction.csv', quiet=False)\n"
      ],
      "metadata": {
        "colab": {
          "base_uri": "https://localhost:8080/",
          "height": 244
        },
        "id": "-FRtPSzgDTC4",
        "outputId": "e23eb76d-474e-4433-d3f5-ca96fe76ae99"
      },
      "execution_count": 72,
      "outputs": [
        {
          "output_type": "stream",
          "name": "stderr",
          "text": [
            "Downloading...\n",
            "From: https://drive.google.com/uc?id=1bu_--mo79VdUG9oin4ybfFGRUSXAe-WE\n",
            "To: /content/customer.csv\n",
            "100%|██████████| 8.54k/8.54k [00:00<00:00, 14.9MB/s]\n",
            "Downloading...\n",
            "From: https://drive.google.com/uc?id=1IKuDizVapw-hyktwfpoAoaGtHtTNHfd0\n",
            "To: /content/product.csv\n",
            "100%|██████████| 4.25k/4.25k [00:00<00:00, 9.53MB/s]\n",
            "Downloading...\n",
            "From: https://drive.google.com/uc?id=1saEqdbBB-vuk2hxoAf4TzDEsykdKlzbF\n",
            "To: /content/transaction.csv\n",
            "100%|██████████| 54.7k/54.7k [00:00<00:00, 3.97MB/s]\n"
          ]
        },
        {
          "output_type": "execute_result",
          "data": {
            "text/plain": [
              "'transaction.csv'"
            ],
            "application/vnd.google.colaboratory.intrinsic+json": {
              "type": "string"
            }
          },
          "metadata": {},
          "execution_count": 72
        }
      ]
    },
    {
      "cell_type": "markdown",
      "source": [
        "Since, Data already has 0 missing value as found in EDA , there focusing on merging the data and feature engineering."
      ],
      "metadata": {
        "id": "LX6RgOfVKJ34"
      }
    },
    {
      "cell_type": "code",
      "source": [
        "import pandas as pd\n",
        "import numpy as np\n",
        "import matplotlib.pyplot as plt\n",
        "import seaborn  as sns\n",
        "%matplotlib inline"
      ],
      "metadata": {
        "id": "xijilTI4KeDt"
      },
      "execution_count": 73,
      "outputs": []
    },
    {
      "cell_type": "code",
      "source": [
        "customer_df = pd.read_csv('customer.csv')\n",
        "product_df = pd.read_csv('product.csv')\n",
        "transaction_df = pd.read_csv('transaction.csv')\n",
        "print(customer_df.head())\n",
        "print(product_df.head())\n",
        "print(transaction_df.head())"
      ],
      "metadata": {
        "colab": {
          "base_uri": "https://localhost:8080/"
        },
        "id": "nEVLXPbGKzVq",
        "outputId": "9daf6567-84fb-4d5b-d8f7-81b79f06b155"
      },
      "execution_count": 74,
      "outputs": [
        {
          "output_type": "stream",
          "name": "stdout",
          "text": [
            "  CustomerID        CustomerName         Region  SignupDate\n",
            "0      C0001    Lawrence Carroll  South America  2022-07-10\n",
            "1      C0002      Elizabeth Lutz           Asia  2022-02-13\n",
            "2      C0003      Michael Rivera  South America  2024-03-07\n",
            "3      C0004  Kathleen Rodriguez  South America  2022-10-09\n",
            "4      C0005         Laura Weber           Asia  2022-08-15\n",
            "  ProductID              ProductName     Category   Price\n",
            "0      P001     ActiveWear Biography        Books  169.30\n",
            "1      P002    ActiveWear Smartwatch  Electronics  346.30\n",
            "2      P003  ComfortLiving Biography        Books   44.12\n",
            "3      P004            BookWorld Rug   Home Decor   95.69\n",
            "4      P005          TechPro T-Shirt     Clothing  429.31\n",
            "  TransactionID CustomerID ProductID      TransactionDate  Quantity  \\\n",
            "0        T00001      C0199      P067  2024-08-25 12:38:23         1   \n",
            "1        T00112      C0146      P067  2024-05-27 22:23:54         1   \n",
            "2        T00166      C0127      P067  2024-04-25 07:38:55         1   \n",
            "3        T00272      C0087      P067  2024-03-26 22:55:37         2   \n",
            "4        T00363      C0070      P067  2024-03-21 15:10:10         3   \n",
            "\n",
            "   TotalValue   Price  \n",
            "0      300.68  300.68  \n",
            "1      300.68  300.68  \n",
            "2      300.68  300.68  \n",
            "3      601.36  300.68  \n",
            "4      902.04  300.68  \n"
          ]
        }
      ]
    },
    {
      "cell_type": "code",
      "source": [
        "merged_df1 = pd.merge(transaction_df, customer_df, on='CustomerID', how='left')\n",
        "final_df = pd.merge(merged_df1, product_df, on='ProductID', how='left')\n",
        "print(final_df.head())\n",
        "print(final_df.info())\n",
        "final_df.dtypes"
      ],
      "metadata": {
        "colab": {
          "base_uri": "https://localhost:8080/",
          "height": 1000
        },
        "id": "ic94l279K3G9",
        "outputId": "ad8e4d69-e488-4f5e-dbf1-29d8862d75b9"
      },
      "execution_count": 75,
      "outputs": [
        {
          "output_type": "stream",
          "name": "stdout",
          "text": [
            "  TransactionID CustomerID ProductID      TransactionDate  Quantity  \\\n",
            "0        T00001      C0199      P067  2024-08-25 12:38:23         1   \n",
            "1        T00112      C0146      P067  2024-05-27 22:23:54         1   \n",
            "2        T00166      C0127      P067  2024-04-25 07:38:55         1   \n",
            "3        T00272      C0087      P067  2024-03-26 22:55:37         2   \n",
            "4        T00363      C0070      P067  2024-03-21 15:10:10         3   \n",
            "\n",
            "   TotalValue  Price_x     CustomerName         Region  SignupDate  \\\n",
            "0      300.68   300.68   Andrea Jenkins         Europe  2022-12-03   \n",
            "1      300.68   300.68  Brittany Harvey           Asia  2024-09-04   \n",
            "2      300.68   300.68  Kathryn Stevens         Europe  2024-04-04   \n",
            "3      601.36   300.68  Travis Campbell  South America  2024-04-11   \n",
            "4      902.04   300.68    Timothy Perez         Europe  2022-03-15   \n",
            "\n",
            "                       ProductName     Category  Price_y  \n",
            "0  ComfortLiving Bluetooth Speaker  Electronics   300.68  \n",
            "1  ComfortLiving Bluetooth Speaker  Electronics   300.68  \n",
            "2  ComfortLiving Bluetooth Speaker  Electronics   300.68  \n",
            "3  ComfortLiving Bluetooth Speaker  Electronics   300.68  \n",
            "4  ComfortLiving Bluetooth Speaker  Electronics   300.68  \n",
            "<class 'pandas.core.frame.DataFrame'>\n",
            "RangeIndex: 1000 entries, 0 to 999\n",
            "Data columns (total 13 columns):\n",
            " #   Column           Non-Null Count  Dtype  \n",
            "---  ------           --------------  -----  \n",
            " 0   TransactionID    1000 non-null   object \n",
            " 1   CustomerID       1000 non-null   object \n",
            " 2   ProductID        1000 non-null   object \n",
            " 3   TransactionDate  1000 non-null   object \n",
            " 4   Quantity         1000 non-null   int64  \n",
            " 5   TotalValue       1000 non-null   float64\n",
            " 6   Price_x          1000 non-null   float64\n",
            " 7   CustomerName     1000 non-null   object \n",
            " 8   Region           1000 non-null   object \n",
            " 9   SignupDate       1000 non-null   object \n",
            " 10  ProductName      1000 non-null   object \n",
            " 11  Category         1000 non-null   object \n",
            " 12  Price_y          1000 non-null   float64\n",
            "dtypes: float64(3), int64(1), object(9)\n",
            "memory usage: 101.7+ KB\n",
            "None\n"
          ]
        },
        {
          "output_type": "execute_result",
          "data": {
            "text/plain": [
              "TransactionID       object\n",
              "CustomerID          object\n",
              "ProductID           object\n",
              "TransactionDate     object\n",
              "Quantity             int64\n",
              "TotalValue         float64\n",
              "Price_x            float64\n",
              "CustomerName        object\n",
              "Region              object\n",
              "SignupDate          object\n",
              "ProductName         object\n",
              "Category            object\n",
              "Price_y            float64\n",
              "dtype: object"
            ],
            "text/html": [
              "<div>\n",
              "<style scoped>\n",
              "    .dataframe tbody tr th:only-of-type {\n",
              "        vertical-align: middle;\n",
              "    }\n",
              "\n",
              "    .dataframe tbody tr th {\n",
              "        vertical-align: top;\n",
              "    }\n",
              "\n",
              "    .dataframe thead th {\n",
              "        text-align: right;\n",
              "    }\n",
              "</style>\n",
              "<table border=\"1\" class=\"dataframe\">\n",
              "  <thead>\n",
              "    <tr style=\"text-align: right;\">\n",
              "      <th></th>\n",
              "      <th>0</th>\n",
              "    </tr>\n",
              "  </thead>\n",
              "  <tbody>\n",
              "    <tr>\n",
              "      <th>TransactionID</th>\n",
              "      <td>object</td>\n",
              "    </tr>\n",
              "    <tr>\n",
              "      <th>CustomerID</th>\n",
              "      <td>object</td>\n",
              "    </tr>\n",
              "    <tr>\n",
              "      <th>ProductID</th>\n",
              "      <td>object</td>\n",
              "    </tr>\n",
              "    <tr>\n",
              "      <th>TransactionDate</th>\n",
              "      <td>object</td>\n",
              "    </tr>\n",
              "    <tr>\n",
              "      <th>Quantity</th>\n",
              "      <td>int64</td>\n",
              "    </tr>\n",
              "    <tr>\n",
              "      <th>TotalValue</th>\n",
              "      <td>float64</td>\n",
              "    </tr>\n",
              "    <tr>\n",
              "      <th>Price_x</th>\n",
              "      <td>float64</td>\n",
              "    </tr>\n",
              "    <tr>\n",
              "      <th>CustomerName</th>\n",
              "      <td>object</td>\n",
              "    </tr>\n",
              "    <tr>\n",
              "      <th>Region</th>\n",
              "      <td>object</td>\n",
              "    </tr>\n",
              "    <tr>\n",
              "      <th>SignupDate</th>\n",
              "      <td>object</td>\n",
              "    </tr>\n",
              "    <tr>\n",
              "      <th>ProductName</th>\n",
              "      <td>object</td>\n",
              "    </tr>\n",
              "    <tr>\n",
              "      <th>Category</th>\n",
              "      <td>object</td>\n",
              "    </tr>\n",
              "    <tr>\n",
              "      <th>Price_y</th>\n",
              "      <td>float64</td>\n",
              "    </tr>\n",
              "  </tbody>\n",
              "</table>\n",
              "</div><br><label><b>dtype:</b> object</label>"
            ]
          },
          "metadata": {},
          "execution_count": 75
        }
      ]
    },
    {
      "cell_type": "code",
      "source": [
        "print(final_df.columns)\n"
      ],
      "metadata": {
        "colab": {
          "base_uri": "https://localhost:8080/"
        },
        "id": "LDEvYn3ndoY7",
        "outputId": "1e991f28-3bb0-439f-fa02-406a7f6428c6"
      },
      "execution_count": 76,
      "outputs": [
        {
          "output_type": "stream",
          "name": "stdout",
          "text": [
            "Index(['TransactionID', 'CustomerID', 'ProductID', 'TransactionDate',\n",
            "       'Quantity', 'TotalValue', 'Price_x', 'CustomerName', 'Region',\n",
            "       'SignupDate', 'ProductName', 'Category', 'Price_y'],\n",
            "      dtype='object')\n"
          ]
        }
      ]
    },
    {
      "cell_type": "code",
      "source": [
        "transaction_agg = final_df.groupby('CustomerID').agg(\n",
        "    transaction_frequency=('TransactionID', 'nunique'),\n",
        "    total_spend=('TotalValue', 'sum')\n",
        ").reset_index()"
      ],
      "metadata": {
        "id": "RoV156Puen2s"
      },
      "execution_count": 77,
      "outputs": []
    },
    {
      "cell_type": "code",
      "source": [
        "product_categories = final_df.groupby('CustomerID')['Category'].apply(lambda x: ', '.join(x.unique())).reset_index()"
      ],
      "metadata": {
        "id": "dz70sEwofcC8"
      },
      "execution_count": 64,
      "outputs": []
    },
    {
      "cell_type": "code",
      "source": [
        "final_df = pd.merge(final_df[['CustomerID', 'Region']], transaction_agg, on='CustomerID', how='left')\n",
        "final_df = pd.merge(final_df, product_categories, on='CustomerID', how='left')\n",
        "print(final_df[['CustomerID', 'Region', 'transaction_frequency', 'total_spend', 'Category']].head())\n",
        "# Feature Scaling\n",
        "scaler = MinMaxScaler()\n",
        "final_df[['transaction_frequency_scaled', 'total_spend_scaled']] = scaler.fit_transform(final_df[['transaction_frequency', 'total_spend']])\n",
        "print(final_df[['CustomerID', 'transaction_frequency_scaled', 'total_spend_scaled']].head())\n"
      ],
      "metadata": {
        "colab": {
          "base_uri": "https://localhost:8080/"
        },
        "id": "5m_pPI-mfeNf",
        "outputId": "95b73d1f-e0fa-4a03-a1ae-4874c79bf15d"
      },
      "execution_count": 78,
      "outputs": [
        {
          "output_type": "stream",
          "name": "stdout",
          "text": [
            "  CustomerID         Region  transaction_frequency  total_spend  \\\n",
            "0      C0199         Europe                      4      1979.28   \n",
            "1      C0146           Asia                      4      2570.80   \n",
            "2      C0127         Europe                      6      3232.88   \n",
            "3      C0087  South America                      7      6604.23   \n",
            "4      C0070         Europe                      4      3125.49   \n",
            "\n",
            "                         Category  \n",
            "0         Electronics, Home Decor  \n",
            "1  Electronics, Home Decor, Books  \n",
            "2  Electronics, Home Decor, Books  \n",
            "3    Electronics, Books, Clothing  \n",
            "4              Electronics, Books  \n",
            "  CustomerID  transaction_frequency_scaled  total_spend_scaled\n",
            "0      C0199                           0.3            0.179098\n",
            "1      C0146                           0.3            0.234947\n",
            "2      C0127                           0.5            0.297457\n",
            "3      C0087                           0.6            0.615764\n",
            "4      C0070                           0.3            0.287318\n"
          ]
        }
      ]
    },
    {
      "cell_type": "code",
      "source": [
        "print(final_df[['CustomerID', 'Region', 'transaction_frequency', 'total_spend', 'Category']].head())\n"
      ],
      "metadata": {
        "colab": {
          "base_uri": "https://localhost:8080/"
        },
        "id": "EAP-KCBng5OT",
        "outputId": "f3843d82-dbde-4c38-edc4-3d2fc4863390"
      },
      "execution_count": 68,
      "outputs": [
        {
          "output_type": "stream",
          "name": "stdout",
          "text": [
            "  CustomerID         Region  transaction_frequency  total_spend  \\\n",
            "0      C0199         Europe                      4      1979.28   \n",
            "1      C0146           Asia                      4      2570.80   \n",
            "2      C0127         Europe                      6      3232.88   \n",
            "3      C0087  South America                      7      6604.23   \n",
            "4      C0070         Europe                      4      3125.49   \n",
            "\n",
            "                         Category  \n",
            "0         Electronics, Home Decor  \n",
            "1  Electronics, Home Decor, Books  \n",
            "2  Electronics, Home Decor, Books  \n",
            "3    Electronics, Books, Clothing  \n",
            "4              Electronics, Books  \n"
          ]
        }
      ]
    },
    {
      "cell_type": "code",
      "source": [
        "scaler = MinMaxScaler()\n",
        "final_df[['transaction_frequency_scaled', 'total_spend_scaled']] = scaler.fit_transform(final_df[['transaction_frequency', 'total_spend']])\n",
        "print(final_df[['CustomerID', 'transaction_frequency_scaled', 'total_spend_scaled']].head())"
      ],
      "metadata": {
        "colab": {
          "base_uri": "https://localhost:8080/"
        },
        "id": "uHo-8ni_g8hH",
        "outputId": "d23fef9a-389b-487e-9d2f-02fda97e1404"
      },
      "execution_count": 79,
      "outputs": [
        {
          "output_type": "stream",
          "name": "stdout",
          "text": [
            "  CustomerID  transaction_frequency_scaled  total_spend_scaled\n",
            "0      C0199                           0.3            0.179098\n",
            "1      C0146                           0.3            0.234947\n",
            "2      C0127                           0.5            0.297457\n",
            "3      C0087                           0.6            0.615764\n",
            "4      C0070                           0.3            0.287318\n"
          ]
        }
      ]
    },
    {
      "cell_type": "code",
      "source": [
        "from sklearn.neighbors import NearestNeighbors\n",
        "from sklearn.preprocessing import MinMaxScaler\n",
        "# Step 1: Feature Scaling\n",
        "scaler = MinMaxScaler()\n",
        "final_df[['transaction_frequency_scaled', 'total_spend_scaled']] = scaler.fit_transform(final_df[['transaction_frequency', 'total_spend']])\n",
        "\n",
        "# Step 2: KNN for Similarity Calculation\n",
        "features = final_df[['transaction_frequency_scaled', 'total_spend_scaled']]\n",
        "knn = NearestNeighbors(n_neighbors=4, metric='euclidean')\n",
        "knn.fit(features)\n",
        "distances, indices = knn.kneighbors(features)\n",
        "\n",
        "# Step 3: Filter for the first 20 customers\n",
        "lookalike_map = []\n",
        "epsilon = 1e-6\n",
        "\n",
        "for i in range(20):\n",
        "    customer_id = final_df['CustomerID'].iloc[i]\n",
        "    similar_customers = final_df['CustomerID'].iloc[indices[i][1:]]\n",
        "    adjusted_distances = distances[i][1:] + epsilon\n",
        "    similarity_scores = 1 / adjusted_distances\n",
        "    for similar_customer, score in zip(similar_customers, similarity_scores):\n",
        "        lookalike_map.append([customer_id, similar_customer, score])\n",
        "lookalike_df = pd.DataFrame(lookalike_map, columns=['cust_id', 'similar_customer_id', 'similarity_score'])\n",
        "print(lookalike_df.head())\n",
        "lookalike_df.to_csv('Lookalike.csv', index=False)"
      ],
      "metadata": {
        "colab": {
          "base_uri": "https://localhost:8080/"
        },
        "id": "hkcZP2YVhCao",
        "outputId": "fab4e539-f4d7-4a65-b9a1-9732cfa58dd5"
      },
      "execution_count": 71,
      "outputs": [
        {
          "output_type": "stream",
          "name": "stdout",
          "text": [
            "  cust_id similar_customer_id  similarity_score\n",
            "0   C0199               C0199         1000000.0\n",
            "1   C0199               C0199         1000000.0\n",
            "2   C0199               C0199         1000000.0\n",
            "3   C0146               C0146         1000000.0\n",
            "4   C0146               C0146         1000000.0\n"
          ]
        }
      ]
    }
  ]
}